{
 "cells": [
  {
   "cell_type": "code",
   "execution_count": 1,
   "metadata": {},
   "outputs": [],
   "source": [
    "# Author: Ernesto Rodríguez\n",
    "# github.com/ernestorodg\n",
    "\n",
    "###############################################################################\n",
    "## Analyse Bezerra's dataset for intrusion detection using Decision Trees\n",
    "###############################################################################"
   ]
  },
  {
   "cell_type": "code",
   "execution_count": 2,
   "metadata": {},
   "outputs": [],
   "source": [
    "import pandas as pd\n",
    "import numpy as np\n",
    "import sys\n",
    "\n",
    "###############################################################################\n",
    "## Define constants \n",
    "###############################################################################\n",
    "\n",
    "\n",
    "# Random state for reproducibility\n",
    "STATE = 0\n",
    "np.random.seed(10)\n",
    "# List of available attacks on the dataset\n",
    "\n",
    "\n",
    "# Especific to the repository \n",
    "DATASET_DIRECTORY = r'../datasets/Dataset-bezerra-IoT-20200528T203526Z-001/Dataset-IoT/'\n",
    "NETFLOW_DIRECTORY = r'NetFlow/'\n",
    "\n",
    "\n",
    "# There are different csv files on the Dataset, with different types of data:\n",
    "\n",
    "# Some meanings:\n",
    "# MC: Media Center\n",
    "# I: One hour of legitimate and malicious NetFlow data from profile.\n",
    "# L: One hour of legitimate NetFlow data from profile.\n",
    "\n",
    "MC = r'MC/'\n",
    "ST = r'ST/'\n",
    "SC = r'SC/'\n",
    "\n",
    "\n",
    "# MC_I_FIRST: Has infected data by Hajime, Aidra and BashLite botnets \n",
    "MC_I_FIRST = r'MC_I1.csv'\n",
    "\n",
    "# MC_I_SECOND: Has infected data from Mirai botnets\n",
    "MC_I_SECOND = r'MC_I2.csv'\n",
    "\n",
    "# MC_I_THIR: Has infected data from Mirai, Doflo, Tsunami and Wroba botnets\n",
    "MC_I_THIRD = r'MC_I3.csv'\n",
    "\n",
    "# MC_L: Has legitimate data, no infection\n",
    "MC_L = r'MC_L.csv'\n",
    "\n",
    "\n",
    "# Constants for ST\n",
    "ST_I_FIRST = r'ST_I1.csv'\n",
    "ST_I_SECOND = r'ST_I2.csv'\n",
    "ST_I_THIRD = r'ST_I3.csv'\n",
    "ST_L = r'ST_L.csv'\n",
    "\n",
    "# Constants for SC\n",
    "SC_I_FIRST = r'SC_I1.csv'\n",
    "SC_I_SECOND = r'SC_I2.csv'\n",
    "SC_I_THIRD = r'SC_I3.csv'\n",
    "SC_L = r'SC_L.csv'\n"
   ]
  },
  {
   "cell_type": "code",
   "execution_count": 3,
   "metadata": {},
   "outputs": [],
   "source": [
    "###############################################################################\n",
    "## Load dataset\n",
    "###############################################################################\n",
    "\n",
    "# For MC data:\n",
    "df_mc_I_first = pd.read_csv (DATASET_DIRECTORY + MC + NETFLOW_DIRECTORY + MC_I_FIRST)\n",
    "df_mc_I_second = pd.read_csv (DATASET_DIRECTORY + MC + NETFLOW_DIRECTORY + MC_I_SECOND)\n",
    "df_mc_I_third = pd.read_csv (DATASET_DIRECTORY + MC + NETFLOW_DIRECTORY + MC_I_THIRD)\n",
    "\n",
    "# Add legitimate rows from MC_L\n",
    "legitimate_frame_mc = pd.read_csv (DATASET_DIRECTORY + MC + NETFLOW_DIRECTORY + MC_L)\n",
    "\n",
    "###################\n",
    "\n",
    "# For ST data:\n",
    "df_st_I_first = pd.read_csv (DATASET_DIRECTORY + ST + NETFLOW_DIRECTORY + ST_I_FIRST)\n",
    "df_st_I_second = pd.read_csv (DATASET_DIRECTORY + ST + NETFLOW_DIRECTORY + ST_I_SECOND)\n",
    "df_st_I_third = pd.read_csv (DATASET_DIRECTORY + ST + NETFLOW_DIRECTORY + ST_I_THIRD)\n",
    "\n",
    "# Add legitimate rows from SC_L\n",
    "legitimate_frame_st = pd.read_csv (DATASET_DIRECTORY + ST + NETFLOW_DIRECTORY + ST_L)\n",
    "\n",
    "\n",
    "###################\n",
    "\n",
    "# For SC data:\n",
    "df_sc_I_first = pd.read_csv (DATASET_DIRECTORY + SC + NETFLOW_DIRECTORY + SC_I_FIRST)\n",
    "df_sc_I_second = pd.read_csv (DATASET_DIRECTORY + SC + NETFLOW_DIRECTORY + SC_I_SECOND)\n",
    "df_sc_I_third = pd.read_csv (DATASET_DIRECTORY + SC + NETFLOW_DIRECTORY + SC_I_THIRD)\n",
    "\n",
    "# Add legitimate rows from MC_L\n",
    "legitimate_frame_sc = pd.read_csv (DATASET_DIRECTORY + SC + NETFLOW_DIRECTORY + SC_L)\n",
    "\n",
    "dataframes_list = [df_mc_I_first,\n",
    "                df_mc_I_second,\n",
    "                df_mc_I_third,\n",
    "                legitimate_frame_mc,\n",
    "                df_st_I_first,\n",
    "                df_st_I_second,\n",
    "                df_st_I_third,\n",
    "                legitimate_frame_st,\n",
    "                df_sc_I_first,\n",
    "                df_sc_I_second,\n",
    "                df_sc_I_third,\n",
    "                legitimate_frame_sc]\n",
    "\n",
    "# Joining the differents DataFrames\n",
    "prev_df = pd.concat(dataframes_list)\n",
    "\n"
   ]
  },
  {
   "cell_type": "code",
   "execution_count": 4,
   "metadata": {},
   "outputs": [],
   "source": [
    "###############################################################################\n",
    "## Modify the DataFrame\n",
    "###############################################################################\n",
    "\n",
    "\n",
    "# Sample the dataset if necessary\n",
    "df = prev_df.sample (frac = 1, replace = True, random_state = 0)\n",
    "\n",
    "# We can see that this dataset has a temporal description.\n",
    "# So it is not a good idea to randomly remove rows\n",
    "\n",
    "# In this case we drop the index column, since pandas library creates an index\n",
    "# automatically. \n",
    "df = df.drop(df.columns[0], axis=1)\n",
    "\n",
    "# Also drop columns that has no significant data\n",
    "df = df.drop(df.columns[14:], axis=1)\n",
    "\n",
    "# Initial and end time is not a good feature for svm model\n",
    "df = df.drop(['ts', 'te'], axis=1)\n",
    "\n",
    "# Trying another drops to see relation between features and results\n",
    "df = df.drop(['fwd', 'stos'], axis=1)\n",
    "# 'sp', 'dp', 'sa',  'da',  \n",
    "\n",
    "# Counting number of null data\n",
    "nanColumns = [i for i in df.columns if df [i].isnull ().any ()]\n",
    "\n",
    "# Remove NaN and inf values\n",
    "df.replace ('Infinity', np.nan, inplace = True) ## Or other text values\n",
    "df.replace (np.inf, np.nan, inplace = True) ## Remove infinity\n",
    "df.replace (np.nan, 0, inplace = True)\n",
    "\n",
    "\n",
    "# if (df.Label.value_counts()[1] < df.Label.value_counts()[0]):\n",
    "#     remove_n =  df.Label.value_counts()[0] - df.Label.value_counts()[1]  # Number of rows to be removed   \n",
    "#     print(remove_n)\n",
    "#     df_to_be_dropped = df[df.Label == 0]\n",
    "#     drop_indices = np.random.choice(df_to_be_dropped.index, remove_n, replace=False)\n",
    "#     df = df.drop(drop_indices)\n",
    "# else: \n",
    "#     remove_n =  df.Label.value_counts()[1] - df.Label.value_counts()[0]  # Number of rows to be removed   \n",
    "#     print(remove_n)\n",
    "#     df_to_be_dropped = df[df.Label == 1]\n",
    "#     drop_indices = np.random.choice(df_to_be_dropped.index, remove_n, replace=False)\n",
    "#     df = df.drop(drop_indices)\n"
   ]
  },
  {
   "cell_type": "code",
   "execution_count": 27,
   "metadata": {},
   "outputs": [
    {
     "name": "stdout",
     "output_type": "stream",
     "text": [
      "Number of non-attacks:  7998\n",
      "Number of attacks:  1716408\n"
     ]
    }
   ],
   "source": [
    "###############################################################################\n",
    "## Slice the dataframe (usually the last column is the target)\n",
    "###############################################################################\n",
    "\n",
    "X = pd.DataFrame(df.iloc [:, 1:])\n",
    "\n",
    "# Selecting other columns\n",
    "# X = pd.concat([X, df.iloc[:, 2]], axis=1)\n",
    "\n",
    "y = df.iloc [:, 0]\n",
    "print('Number of non-attacks: ', y.value_counts()[0])\n",
    "print('Number of attacks: ', y.value_counts()[1])\n",
    "\n",
    "# See Output, only available on jupyter-notebooks\n",
    "# X"
   ]
  },
  {
   "cell_type": "code",
   "execution_count": 28,
   "metadata": {},
   "outputs": [
    {
     "name": "stdout",
     "output_type": "stream",
     "text": [
      "Number of non-attacks:  1716408\n",
      "Number of attacks:  1716408\n"
     ]
    }
   ],
   "source": [
    "###############################################################################\n",
    "## Create artificial non-attacks samples using Random Oversampling\n",
    "###############################################################################\n",
    "\n",
    "from imblearn.over_sampling import RandomOverSampler # doctest: +NORMALIZE_WHITESPACE\n",
    "\n",
    "ros = RandomOverSampler(random_state=42)\n",
    "\n",
    "X, y = ros.fit_resample(X, y)\n",
    "\n",
    "print('Number of non-attacks: ', y.value_counts()[0])\n",
    "print('Number of attacks: ', y.value_counts()[1])"
   ]
  },
  {
   "cell_type": "code",
   "execution_count": 29,
   "metadata": {},
   "outputs": [
    {
     "name": "stdout",
     "output_type": "stream",
     "text": [
      "\n",
      "Splitting dataset (validation/train): 0.2\n"
     ]
    }
   ],
   "source": [
    "###############################################################################\n",
    "## Split dataset into train and test sets if not using cross validation\n",
    "###############################################################################\n",
    "from sklearn.model_selection import train_test_split\n",
    "\n",
    "X_train, X_test, y_train, y_test = train_test_split (X, y, test_size = 1/5,\n",
    "                                                     random_state = STATE)\n",
    "\n",
    "\n",
    "print ('\\nSplitting dataset (validation/train):', 1/5)\n",
    "X_train_val, X_val, y_train_val, y_val = train_test_split (\n",
    "                                             X_train,\n",
    "                                             y_train,\n",
    "                                             test_size = 1/5,\n",
    "                                             random_state = STATE)\n",
    "\n",
    "\n",
    "X_train = pd.DataFrame(X_train)\n",
    "X_test = pd.DataFrame(X_test)\n",
    "X_train_val = pd.DataFrame(X_train_val)\n",
    "X_val = pd.DataFrame(X_val)\n"
   ]
  },
  {
   "cell_type": "code",
   "execution_count": 31,
   "metadata": {},
   "outputs": [],
   "source": [
    "####################################################################\n",
    "# Treat categorical data on train set\n",
    "####################################################################\n",
    "from sklearn.impute import SimpleImputer\n",
    "from sklearn.preprocessing import OrdinalEncoder\n",
    "\n",
    "\n",
    "cat_cols = X_train.columns[X_train.dtypes == 'O'] # Returns array with the columns that has Object types elements\n",
    "\n",
    "categories = [\n",
    "    X_train[column].unique() for column in X_train[cat_cols]]\n",
    "\n",
    "for cat in categories:\n",
    "    cat[cat == None] = 'missing'  # noqa\n",
    "\n",
    "# Replacing missing values\n",
    "categorical_imputer = SimpleImputer(missing_values=None, \n",
    "                                    strategy='constant', \n",
    "                                    fill_value='missing')\n",
    "\n",
    "X_train[cat_cols] = categorical_imputer.fit_transform(X_train[cat_cols])\n",
    "\n",
    "# Encoding the categorical data\n",
    "categorical_encoder = OrdinalEncoder(categories = categories)\n",
    "categorical_encoder.fit(X_train[cat_cols])\n",
    "X_train[cat_cols] = categorical_encoder.transform(X_train[cat_cols])\n",
    "\n",
    "categorical_encoder.fit(X_train_val[cat_cols])\n",
    "X_train_val[cat_cols] = categorical_encoder.transform(X_train_val[cat_cols])"
   ]
  },
  {
   "cell_type": "code",
   "execution_count": 32,
   "metadata": {},
   "outputs": [],
   "source": [
    "####################################################################\n",
    "# Treat categorical data on test set\n",
    "####################################################################\n",
    "from sklearn.impute import SimpleImputer\n",
    "from sklearn.preprocessing import OrdinalEncoder\n",
    "\n",
    "\n",
    "cat_cols = X_test.columns[X_test.dtypes == 'O'] # Returns array with the columns that has Object types elements\n",
    "\n",
    "categories = [\n",
    "    X_test[column].unique() for column in X_test[cat_cols]]\n",
    "\n",
    "for cat in categories:\n",
    "    cat[cat == None] = 'missing'  # noqa\n",
    "\n",
    "# Replacing missing values\n",
    "categorical_imputer = SimpleImputer(missing_values=None, \n",
    "                                    strategy='constant', \n",
    "                                    fill_value='missing')\n",
    "\n",
    "X_test[cat_cols] = categorical_imputer.fit_transform(X_test[cat_cols])\n",
    "\n",
    "# Encoding the categorical data\n",
    "categorical_encoder = OrdinalEncoder(categories = categories)\n",
    "categorical_encoder.fit(X_test[cat_cols])\n",
    "X_test[cat_cols] = categorical_encoder.transform(X_test[cat_cols])\n"
   ]
  },
  {
   "cell_type": "code",
   "execution_count": 33,
   "metadata": {},
   "outputs": [],
   "source": [
    "####################################################################\n",
    "# Treat categorical data on val set\n",
    "####################################################################\n",
    "from sklearn.impute import SimpleImputer\n",
    "from sklearn.preprocessing import OrdinalEncoder\n",
    "\n",
    "\n",
    "cat_cols = X_val.columns[X_val.dtypes == 'O'] # Returns array with the columns that has Object types elements\n",
    "\n",
    "categories = [\n",
    "    X_val[column].unique() for column in X_val[cat_cols]]\n",
    "\n",
    "for cat in categories:\n",
    "    cat[cat == None] = 'missing'  # noqa\n",
    "\n",
    "# Replacing missing values\n",
    "categorical_imputer = SimpleImputer(missing_values=None, \n",
    "                                    strategy='constant', \n",
    "                                    fill_value='missing')\n",
    "\n",
    "X_val[cat_cols] = categorical_imputer.fit_transform(X_val[cat_cols])\n",
    "\n",
    "# Encoding the categorical data\n",
    "categorical_encoder = OrdinalEncoder(categories = categories)\n",
    "categorical_encoder.fit(X_val[cat_cols])\n",
    "X_val[cat_cols] = categorical_encoder.transform(X_val[cat_cols])\n"
   ]
  },
  {
   "cell_type": "code",
   "execution_count": 34,
   "metadata": {},
   "outputs": [],
   "source": [
    "####################################################################\n",
    "# Treat numerical data \n",
    "####################################################################\n",
    "from sklearn.preprocessing import StandardScaler\n",
    "\n",
    "\n",
    "num_cols = X_train.columns[(X_train.dtypes == 'float64') | (X_train.dtypes == 'int64')] # Returns array with the columns that has float types elements\n",
    "\n",
    "# Scaling numerical values\n",
    "\n",
    "numerical_scaler = StandardScaler()\n",
    "numerical_scaler.fit(X_train)\n",
    "X_train = numerical_scaler.transform(X_train)\n",
    "\n",
    "X_test = numerical_scaler.transform(X_test)\n",
    "\n",
    "X_val = numerical_scaler.transform(X_val)\n",
    "\n",
    "# X_train"
   ]
  },
  {
   "cell_type": "code",
   "execution_count": 35,
   "metadata": {},
   "outputs": [],
   "source": [
    "###############################################################################\n",
    "## Training the model without cross-validation (simpler than the training above)\n",
    "###############################################################################\n",
    "\n",
    "# scikit-learn uses an optimised version of the CART algorithm;\n",
    "# however, scikit-learn implementation does not support categorical variables for now\n",
    "\n",
    "from sklearn import tree\n",
    "import time\n",
    "\n",
    "# Assign the model to be used\n",
    "clf = tree.DecisionTreeClassifier()"
   ]
  },
  {
   "cell_type": "code",
   "execution_count": 37,
   "metadata": {},
   "outputs": [
    {
     "name": "stdout",
     "output_type": "stream",
     "text": [
      "Fitting 1 folds for each of 96 candidates, totalling 96 fits\n"
     ]
    },
    {
     "name": "stderr",
     "output_type": "stream",
     "text": [
      "[Parallel(n_jobs=1)]: Using backend SequentialBackend with 1 concurrent workers.\n",
      "[Parallel(n_jobs=1)]: Done  96 out of  96 | elapsed: 10.9min finished\n"
     ]
    },
    {
     "name": "stdout",
     "output_type": "stream",
     "text": [
      "{'criterion': 'gini', 'max_depth': 10, 'min_samples_split': 2, 'splitter': 'best'}\n"
     ]
    }
   ],
   "source": [
    "###############################################################################\n",
    "## Create learning model (Decision Tree) and tune hyperparameters\n",
    "###############################################################################\n",
    "from sklearn.model_selection import PredefinedSplit\n",
    "from sklearn.model_selection import GridSearchCV\n",
    "from sklearn.tree import DecisionTreeClassifier\n",
    "\n",
    "### -1 indices -> train\n",
    "### 0  indices -> validation\n",
    "test_fold = np.repeat ([-1, 0], [X_train_val.shape [0], X_val.shape [0]])\n",
    "myPreSplit = PredefinedSplit (test_fold)\n",
    "#myPreSplit.get_n_splits ()\n",
    "#myPreSplit.split ()\n",
    "#for train_index, test_index in myPreSplit.split ():\n",
    "#    print (\"TRAIN:\", train_index, \"TEST:\", test_index)\n",
    "\n",
    "\n",
    "parameters = {'criterion' : ['gini', 'entropy'],\n",
    "              'splitter' : ['best', 'random'],\n",
    "              'max_depth' : [1, 10, 100, 1000, 10000, 100000, 1000000, None],\n",
    "              'min_samples_split' : [2, 3, 4]}\n",
    "clf = DecisionTreeClassifier ()\n",
    "model = GridSearchCV (estimator = clf,\n",
    "                      param_grid = parameters,\n",
    "                      scoring = 'f1_weighted',\n",
    "                      cv = myPreSplit,\n",
    "                      verbose = 1)\n",
    "\n",
    "model.fit (np.concatenate ((X_train_val, X_val), axis = 0),\n",
    "           np.concatenate ((y_train_val, y_val), axis = 0))\n",
    "\n",
    "print (model.best_params_)\n",
    "\n"
   ]
  },
  {
   "cell_type": "code",
   "execution_count": 48,
   "metadata": {},
   "outputs": [
    {
     "name": "stdout",
     "output_type": "stream",
     "text": [
      "Accuracy Score : 0.8520079701236883\n",
      "Precision Score : 0.7771851484329777\n",
      "Recall Score : 0.9865753025222336\n",
      "F1 Score : 0.869451032894855\n"
     ]
    },
    {
     "data": {
      "text/plain": [
       "array([[246612,  97002],\n",
       "       [  4604, 338346]])"
      ]
     },
     "execution_count": 48,
     "metadata": {},
     "output_type": "execute_result"
    }
   ],
   "source": [
    "# ###############################################################################\n",
    "# ## Obtain metrics from the validation model \n",
    "# ###############################################################################\n",
    "\n",
    "from sklearn.metrics import precision_score\n",
    "from sklearn.metrics import recall_score\n",
    "from sklearn.metrics import accuracy_score\n",
    "from sklearn.metrics import multilabel_confusion_matrix\n",
    "from sklearn.metrics import f1_score\n",
    "from sklearn.metrics import confusion_matrix\n",
    "\n",
    "y_pred = model.predict(X_test)\n",
    "\n",
    "# New Model Evaluation metrics \n",
    "print('Accuracy Score : ' + str(accuracy_score(y_test,y_pred)))\n",
    "print('Precision Score : ' + str(precision_score(y_test,y_pred)))\n",
    "print('Recall Score : ' + str(recall_score(y_test,y_pred)))\n",
    "print('F1 Score : ' + str(f1_score(y_test,y_pred)))\n",
    "\n",
    "#Logistic Regression (Grid Search) Confusion matrix\n",
    "confusion_matrix(y_test,y_pred)"
   ]
  },
  {
   "cell_type": "code",
   "execution_count": 49,
   "metadata": {},
   "outputs": [
    {
     "data": {
      "image/png": "[encoded data removed]",
      "text/plain": [
       "<Figure size 432x288 with 2 Axes>"
      ]
     },
     "metadata": {
      "needs_background": "light"
     },
     "output_type": "display_data"
    }
   ],
   "source": [
    "###############################################################################\n",
    "## Plotting confusion matrix\n",
    "###############################################################################\n",
    "from sklearn.metrics import plot_confusion_matrix\n",
    "from matplotlib import pyplot as plt\n",
    "\n",
    "plot_confusion_matrix(model, X_test, y_test)  # doctest: +SKIP\n",
    "plt.savefig(\"decision_tree_confusion_matrix_with_tuning.png\", format=\"png\")\n",
    "plt.show()  # doctest: +SKIP\n",
    "# td  sp  dp  pr  flg  ipkt ibyt"
   ]
  },
  {
   "cell_type": "code",
   "execution_count": 50,
   "metadata": {},
   "outputs": [
    {
     "name": "stdout",
     "output_type": "stream",
     "text": [
      "--- 14.528177261352539 seconds ---\n"
     ]
    }
   ],
   "source": [
    "###############################################################################\n",
    "## Train the model with other parameters\n",
    "###############################################################################\n",
    "\n",
    "# Measure time of this training\n",
    "start_time = time.time()\n",
    "\n",
    "# Assign the model to be used with adjusted parameters\n",
    "clf = tree.DecisionTreeClassifier(max_depth = 1000000)\n",
    "\n",
    "# Training the model\n",
    "model = clf.fit(X_train, y_train)\n",
    "print(\"--- %s seconds ---\" % (time.time() - start_time))"
   ]
  },
  {
   "cell_type": "code",
   "execution_count": 51,
   "metadata": {},
   "outputs": [
    {
     "name": "stdout",
     "output_type": "stream",
     "text": [
      "Precision Score:  0.978988069061231\n",
      "Recall Score:  0.999632599504301\n",
      "Accuracy:  0.9890993410665284\n",
      "F1 Score:  0.9892026338417502\n",
      "[[[342824    126]\n",
      "  [  7358 336256]]\n",
      "\n",
      " [[336256   7358]\n",
      "  [   126 342824]]]\n"
     ]
    }
   ],
   "source": [
    "###############################################################################\n",
    "## Obtain metrics from the above model \n",
    "###############################################################################\n",
    "from sklearn.metrics import precision_score\n",
    "from sklearn.metrics import recall_score\n",
    "from sklearn.metrics import accuracy_score\n",
    "from sklearn.metrics import multilabel_confusion_matrix\n",
    "from sklearn.metrics import f1_score\n",
    "from sklearn.metrics import confusion_matrix\n",
    "\n",
    "\n",
    "# Predicting from the test slice\n",
    "y_pred = model.predict(X_test)\n",
    "\n",
    "# Precision == TP / (TP + FP)\n",
    "print('Precision Score: ', precision_score(y_test, y_pred))\n",
    "\n",
    "# Recall == TP / (TP + FN)\n",
    "print('Recall Score: ', recall_score(y_test, y_pred))\n",
    "\n",
    "# Accuracy \n",
    "train_score = model.score(X_test, y_test)\n",
    "print('Accuracy: ', train_score)\n",
    "\n",
    "# f1 \n",
    "f_one_score = f1_score(y_test, y_pred)\n",
    "print('F1 Score: ', f_one_score)\n",
    "\n",
    "# Multilabel Confusion Matrix: \n",
    "# [tn fp]\n",
    "# [fn tp]\n",
    "print(multilabel_confusion_matrix(y_test, y_pred, labels=[0, 1]))"
   ]
  },
  {
   "cell_type": "code",
   "execution_count": 52,
   "metadata": {},
   "outputs": [
    {
     "data": {
      "image/png": "[encoded data removed]",
      "text/plain": [
       "<Figure size 432x288 with 2 Axes>"
      ]
     },
     "metadata": {
      "needs_background": "light"
     },
     "output_type": "display_data"
    }
   ],
   "source": [
    "###############################################################################\n",
    "## Plotting confusion matrix\n",
    "###############################################################################\n",
    "\n",
    "plot_confusion_matrix(model, X_test, y_test)  # doctest: +SKIP\n",
    "plt.savefig(\"decision_tree_confusion_matrix_without_tuning.png\", format=\"png\")\n",
    "plt.show()  # doctest: +SKIP\n",
    "# td  sp  dp  pr  flg  ipkt ibyt"
   ]
  },
  {
   "cell_type": "code",
   "execution_count": null,
   "metadata": {},
   "outputs": [],
   "source": []
  },
  {
   "cell_type": "code",
   "execution_count": null,
   "metadata": {},
   "outputs": [],
   "source": []
  }
 ],
 "metadata": {
  "kernelspec": {
   "display_name": "Python 3",
   "language": "python",
   "name": "python3"
  },
  "language_info": {
   "codemirror_mode": {
    "name": "ipython",
    "version": 3
   },
   "file_extension": ".py",
   "mimetype": "text/x-python",
   "name": "python",
   "nbconvert_exporter": "python",
   "pygments_lexer": "ipython3",
   "version": "3.6.9"
  }
 },
 "nbformat": 4,
 "nbformat_minor": 4
}
